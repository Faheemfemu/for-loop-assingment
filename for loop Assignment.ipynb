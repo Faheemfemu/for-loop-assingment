{
 "cells": [
  {
   "cell_type": "markdown",
   "metadata": {},
   "source": [
    "# Sum or product\n",
    "Write a program that asks the user for a number N and a choice C. And then give them the possibility to choose between computing the sum and computing the product of all integers in the range 1 to N (both inclusive).\n",
    "If C is equal to -\n",
    " 1, then print the sum\n",
    " 2, then print the product\n",
    " Any other number, then print '-1' (without the quotes)\n",
    "Input format :\n",
    "Line 1 : Integer N\n",
    "Line 2 : Choice C\n",
    "Output Format :\n",
    " Sum or product according to user's choice\n",
    "Constraints :\n",
    "1 <= N <= 12\n",
    "Sample Input 1 :\n",
    "10\n",
    "1\n",
    "Sample Output 1 :\n",
    "55\n",
    "Sample Input 2 :\n",
    "10\n",
    "2\n",
    "Sample Output 2 :\n",
    "3628800\n",
    "Sample Input 3 :\n",
    "10\n",
    "4\n",
    "Sample Output 3 :\n",
    "-1\n"
   ]
  },
  {
   "cell_type": "code",
   "execution_count": 13,
   "metadata": {
    "scrolled": true
   },
   "outputs": [
    {
     "name": "stdout",
     "output_type": "stream",
     "text": [
      "please enter a number10\n",
      "1\n",
      "55\n"
     ]
    }
   ],
   "source": [
    "n = int(input(\"please enter a number\"))\n",
    "c = int(input())\n",
    "sum=0\n",
    "product=1\n",
    "if c == 1:\n",
    "    for number in range(1,n+1,1):\n",
    "        sum +=number\n",
    "    print(sum)\n",
    "elif c == 2:\n",
    "    for number in range(1,n+1,1):\n",
    "        product *=number\n",
    "    print(product)\n",
    "            \n",
    "else:\n",
    "    print(-1)"
   ]
  },
  {
   "cell_type": "markdown",
   "metadata": {},
   "source": [
    "## Square Root (Integral)\n",
    "Given a number N, find its square root. You need to find and print only the integral part of square root of N.\n",
    "For eg. if number given is 18, answer is 4.\n",
    "Input format :\n",
    "Integer N\n",
    "Output Format :\n",
    "Square root of N (integer part only)\n",
    "Constraints :\n",
    "0 <= N <= 10^8\n",
    "Sample Input 1 :\n",
    "10\n",
    "Sample Output 1 :\n",
    "3\n",
    "Sample Input 2 :\n",
    "4\n",
    "Sample Output 2 :\n",
    "2\n"
   ]
  },
  {
   "cell_type": "code",
   "execution_count": 19,
   "metadata": {},
   "outputs": [
    {
     "name": "stdout",
     "output_type": "stream",
     "text": [
      "18\n",
      "4\n"
     ]
    }
   ],
   "source": [
    "n=int(input())\n",
    "sqrt=int(n**0.5)\n",
    "print(sqrt)"
   ]
  },
  {
   "cell_type": "markdown",
   "metadata": {},
   "source": [
    "# Decimal to Binary\n",
    "Given a decimal number (integer N), convert it into binary and print.\n",
    "The binary number should be in the form of an integer.\n"
   ]
  },
  {
   "cell_type": "code",
   "execution_count": 5,
   "metadata": {},
   "outputs": [
    {
     "name": "stdout",
     "output_type": "stream",
     "text": [
      "12\n",
      "1100\n"
     ]
    }
   ],
   "source": [
    "n=int(input())\n",
    "print(bin(n)[2:])"
   ]
  },
  {
   "cell_type": "markdown",
   "metadata": {},
   "source": [
    "# Binary to decimal\n",
    "Given a binary number as an integer N, convert it into decimal and print."
   ]
  },
  {
   "cell_type": "code",
   "execution_count": 10,
   "metadata": {},
   "outputs": [
    {
     "name": "stdout",
     "output_type": "stream",
     "text": [
      "1001\n",
      "9\n"
     ]
    }
   ],
   "source": [
    "n=(input(\"\"))\n",
    "l= list(n)\n",
    "sum=0\n",
    "l.reverse()\n",
    "#print(l)\n",
    "for i in range(len(l)):\n",
    "    sum=sum +int(l[i])* 2**i\n",
    "print(sum)"
   ]
  },
  {
   "cell_type": "code",
   "execution_count": null,
   "metadata": {},
   "outputs": [],
   "source": []
  }
 ],
 "metadata": {
  "kernelspec": {
   "display_name": "Python 3",
   "language": "python",
   "name": "python3"
  },
  "language_info": {
   "codemirror_mode": {
    "name": "ipython",
    "version": 3
   },
   "file_extension": ".py",
   "mimetype": "text/x-python",
   "name": "python",
   "nbconvert_exporter": "python",
   "pygments_lexer": "ipython3",
   "version": "3.8.3"
  }
 },
 "nbformat": 4,
 "nbformat_minor": 4
}
